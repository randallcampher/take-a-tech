{
 "cells": [
  {
   "cell_type": "markdown",
   "metadata": {},
   "source": [
    "### Import Libraries"
   ]
  },
  {
   "cell_type": "code",
   "execution_count": null,
   "metadata": {},
   "outputs": [],
   "source": [
    "# Importing necessary libraries\n",
    "import mysql.connector  # For MySQL database connection\n",
    "import pandas as pd  # For data manipulation and analysis\n",
    "import matplotlib.pyplot as plt  # For data visualization\n",
    "import seaborn as sns  # For advanced visualizations\n",
    "import warnings  # To manage warnings in code\n",
    "\n",
    "# Suppress warnings to improve readability of output\n",
    "warnings.filterwarnings('ignore')"
   ]
  },
  {
   "cell_type": "markdown",
   "metadata": {},
   "source": [
    "### Connecting to Database"
   ]
  },
  {
   "cell_type": "code",
   "execution_count": null,
   "metadata": {},
   "outputs": [],
   "source": [
    "# Establishing a connection to the MySQL database\n",
    "connection = mysql.connector.connect(host = '@@@',\n",
    "                                     user = '@@@',\n",
    "                                     password = '@@@',\n",
    "                                     database = '@@@')\n",
    "\n",
    "# Running an SQL query to retrieve all the table names from the connected database\n",
    "tech_tables = pd.read_sql_query('SHOW TABLES', connection)\n",
    "\n",
    "# Displaying the list of tables in the 'techtrendpro' database\n",
    "tech_tables"
   ]
  },
  {
   "cell_type": "markdown",
   "metadata": {},
   "source": [
    "### Extracting Data from SQL"
   ]
  },
  {
   "cell_type": "code",
   "execution_count": null,
   "metadata": {},
   "outputs": [],
   "source": [
    "# Loading data from the 'feedback_data' table in the database\n",
    "feedback = pd.read_sql_query('SELECT * FROM feedback_data', connection)\n",
    "feedback.head()  # Displaying the first few rows of the feedback data"
   ]
  },
  {
   "cell_type": "code",
   "execution_count": null,
   "metadata": {},
   "outputs": [],
   "source": [
    "# Loading data from the 'product_data' table in the database\n",
    "product = pd.read_sql_query('SELECT * FROM product_data', connection)\n",
    "product.head()  # Displaying the first few rows of the product data"
   ]
  },
  {
   "cell_type": "code",
   "execution_count": null,
   "metadata": {},
   "outputs": [],
   "source": [
    "# Loading data from the 'sales_data' table in the database\n",
    "sales = pd.read_sql_query('SELECT * FROM sales_data', connection)\n",
    "sales.head()  # Displaying the first few rows of the sales data"
   ]
  },
  {
   "cell_type": "markdown",
   "metadata": {},
   "source": [
    "### Inspecting Headers"
   ]
  },
  {
   "cell_type": "code",
   "execution_count": null,
   "metadata": {},
   "outputs": [],
   "source": [
    "# Retrieving column information from the 'feedback_data' table\n",
    "feedback_headers = pd.read_sql_query('SHOW COLUMNS FROM feedback_data', connection)\n",
    "feedback_headers  # Display column details"
   ]
  },
  {
   "cell_type": "code",
   "execution_count": null,
   "metadata": {},
   "outputs": [],
   "source": [
    "# Retrieving column information from the 'product_data' table\n",
    "product_headers = pd.read_sql_query('SHOW COLUMNS FROM product_data', connection)\n",
    "product_headers  # Display column details"
   ]
  },
  {
   "cell_type": "code",
   "execution_count": null,
   "metadata": {},
   "outputs": [],
   "source": [
    "# Retrieving column information from the 'sales_data' table\n",
    "sales_headers = pd.read_sql_query('SHOW COLUMNS FROM sales_data', connection)\n",
    "sales_headers  # Display column details"
   ]
  },
  {
   "cell_type": "markdown",
   "metadata": {},
   "source": [
    "### Descriptive Analysis"
   ]
  },
  {
   "cell_type": "code",
   "execution_count": null,
   "metadata": {},
   "outputs": [],
   "source": [
    "# Generating descriptive statistics for the feedback data\n",
    "feedback_stats = feedback.describe(include='all')\n",
    "feedback_stats  # Display the statistics"
   ]
  },
  {
   "cell_type": "code",
   "execution_count": null,
   "metadata": {},
   "outputs": [],
   "source": [
    "# Generating descriptive statistics for the product data\n",
    "product_stats = product.describe(include='all')\n",
    "product_stats  # Display the statistics"
   ]
  },
  {
   "cell_type": "code",
   "execution_count": null,
   "metadata": {},
   "outputs": [],
   "source": [
    "# Generating descriptive statistics for the sales data\n",
    "sales_stats = sales.describe(include='all')\n",
    "sales_stats  # Display the statistics"
   ]
  },
  {
   "cell_type": "markdown",
   "metadata": {},
   "source": [
    "### Joining Data"
   ]
  },
  {
   "cell_type": "code",
   "execution_count": null,
   "metadata": {},
   "outputs": [],
   "source": [
    "# Aggregating sales data by product to sum volumes and revenues\n",
    "sales_aggregated = sales.groupby('productid').agg({\n",
    "    'saleid': 'first',  # Retaining first sale ID for each product\n",
    "    'salesdate': 'first',  # Retaining first sale date for each product\n",
    "    'salesvolume': 'sum',  # Summing sales volume\n",
    "    'revenuegenerated': 'sum'  # Summing revenue\n",
    "}).reset_index()\n",
    "\n",
    "# Merging the aggregated sales data with the product data\n",
    "salesproduct_merged = pd.merge(sales_aggregated, product, on='productid', how='inner')\n",
    "\n",
    "# Merging feedback data with the sales and product data\n",
    "all_data = pd.merge(feedback, salesproduct_merged, on='productid', how='inner')"
   ]
  },
  {
   "cell_type": "code",
   "execution_count": null,
   "metadata": {},
   "outputs": [],
   "source": [
    "# Exporting the merged data to a CSV file for further analysis or record-keeping\n",
    "all_data.to_csv('joined_data.csv', index=False)"
   ]
  },
  {
   "cell_type": "code",
   "execution_count": null,
   "metadata": {},
   "outputs": [],
   "source": [
    "all_data.head(10)"
   ]
  },
  {
   "cell_type": "code",
   "execution_count": null,
   "metadata": {},
   "outputs": [],
   "source": [
    "all_data.info()"
   ]
  },
  {
   "cell_type": "code",
   "execution_count": null,
   "metadata": {},
   "outputs": [],
   "source": [
    "# Calculating product return rate based on feedback count and total sales volume\n",
    "productreturn_rate = (all_data['feedbackid'].count() * 100) / all_data['salesvolume'].sum()\n",
    "print(f'Sales Volume: {all_data['salesvolume'].sum()}\\nReturn Volume: {all_data['feedbackid'].count()}\\nReturn Rate: {round(productreturn_rate, 2)}%')"
   ]
  },
  {
   "cell_type": "markdown",
   "metadata": {},
   "source": [
    "### Exploratory Data Analysis (EDA) - Univariate"
   ]
  },
  {
   "cell_type": "code",
   "execution_count": null,
   "metadata": {},
   "outputs": [],
   "source": [
    "# Visualizing sales volume, revenue, and other product statistics\n",
    "\n",
    "plt.style.use('classic')\n",
    "fig, axes = plt.subplots(nrows=2, ncols=2, figsize=(12, 6), gridspec_kw={'hspace': 0.4})\n",
    "\n",
    "# Custom color palette\n",
    "custom_colors = ['#0072B2', '#E69F00', '#009E73', '#CC79A7']\n",
    "\n",
    "# Plot distribution of Sales Volume\n",
    "sns.histplot(all_data['salesvolume'], kde=True, ax=axes[0, 0], color=custom_colors[3])\n",
    "axes[0, 0].set(title='Distribution of Sales Volume', xlabel='Sales Volume', ylabel='Frequency')\n",
    "\n",
    "# Plot distribution of Revenue Generated\n",
    "sns.histplot(all_data['revenuegenerated'], kde=True, ax=axes[0, 1], color=custom_colors[2])\n",
    "axes[0, 1].set(title='Distribution of Revenue Generated', xlabel='Revenue Generated', ylabel='Frequency')\n",
    "\n",
    "# Sales Volume by Product Category\n",
    "category_sales = all_data.groupby('productcategory')['salesvolume'].sum()\n",
    "category_sales.plot(kind='bar', ax=axes[1, 0], color=custom_colors[1])\n",
    "axes[1, 0].set(title='Sales Volume by Product Category', xlabel='Product Category', ylabel='Sales')\n",
    "\n",
    "# Return Reasons by Count\n",
    "return_reason_counts = all_data['returnreason'].value_counts()\n",
    "return_reason_counts.plot(kind='bar', ax=axes[1, 1], color=custom_colors[0])\n",
    "axes[1, 1].set(title='Return Reasons', xlabel='Return Reason', ylabel='Count')\n",
    "\n",
    "# Overall plot title and layout adjustments\n",
    "fig.suptitle('Univariate Analysis', fontsize=16)\n",
    "plt.tight_layout(rect=[0, 0, 1, 0.95])\n",
    "plt.show()"
   ]
  },
  {
   "cell_type": "markdown",
   "metadata": {},
   "source": [
    "### Exploratory Data Analysis (EDA) - Bivariate"
   ]
  },
  {
   "cell_type": "code",
   "execution_count": null,
   "metadata": {},
   "outputs": [],
   "source": [
    "# Create a crosstab to count occurrences of each combination\n",
    "stacked_data = pd.crosstab(all_data['returnreason'], all_data['productcategory'])\n",
    "\n",
    "# Sort columns by the sum of each column in descending order\n",
    "stacked_data = stacked_data[stacked_data.sum(axis=0).sort_values(ascending=False).index]\n",
    "\n",
    "# Define your custom colors\n",
    "custom_colors = ['#0072B2', '#009E73', '#CC79A7']\n",
    "\n",
    "# Plotting the stacked bar chart\n",
    "stacked_data.plot(kind='barh', stacked=True, figsize=(12, 6), color=custom_colors)\n",
    "\n",
    "# Set title and labels\n",
    "plt.title('Return Reason By Product Category')\n",
    "plt.xlabel('Count of Returns')\n",
    "plt.ylabel('Return Reason')\n",
    "\n",
    "# Show the legend outside the plot\n",
    "plt.legend(title='Product Category', bbox_to_anchor=(1.05, 1), loc='upper left')\n",
    "\n",
    "# Adjust layout\n",
    "plt.suptitle('Bivariate Analysis', fontsize=16)\n",
    "plt.tight_layout(rect=[0, 0, 1, 0.95])\n",
    "plt.show()"
   ]
  },
  {
   "cell_type": "markdown",
   "metadata": {},
   "source": [
    "### Analysis"
   ]
  },
  {
   "cell_type": "code",
   "execution_count": null,
   "metadata": {},
   "outputs": [],
   "source": [
    "# Extracting insights from 'Customer Feedback' related to product quality\n",
    "# Assume feedback mentioning terms like 'defective', 'poor quality', 'not as described' etc. indicate quality issues\n",
    "quality_related_terms = ['defective',\n",
    "                        'poor quality',\n",
    "                        'disappointing',\n",
    "                        'poor',\n",
    "                        'malfunctioning',\n",
    "                        'faulty',\n",
    "                        'subpar',\n",
    "                        'unsatisfactory',\n",
    "                        'unreliable',\n",
    "                        'underwhelming',\n",
    "                        'limited functionality',\n",
    "                        'performance issues',\n",
    "                        'software bugs',\n",
    "                        'hardware failure',\n",
    "                        'glitchy',\n",
    "                        'inconsistent',\n",
    "                        'slow',\n",
    "                        'overheating',\n",
    "                        'not worth the price',\n",
    "                        'broke after a few uses',\n",
    "                        'short lifespan',\n",
    "                        'low battery life',\n",
    "                        'not responsive',\n",
    "                        'poor sound quality',\n",
    "                        'screen issues',\n",
    "                        'connectivity problems'\n",
    "]\n",
    "\n",
    "\n",
    "# Adding a new column 'Quality Issue' to indicate if the feedback suggests a quality issue\n",
    "all_data['qualityissue'] = all_data['customerfeedback'].apply(\n",
    "    lambda x: any(term in x.lower() for term in quality_related_terms)\n",
    ")\n",
    "\n",
    "# Analyzing the frequency of returns due to quality issues\n",
    "quality_issue_returns = all_data['qualityissue'].value_counts()\n",
    "\n",
    "# Visualizing the relationship between product category and quality issues\n",
    "plt.figure(figsize=(12, 6))\n",
    "custom_colors = ['#009E73', '#CC79A7']\n",
    "sns.countplot(x='productcategory', hue='qualityissue', data=all_data, width=0.7, palette=custom_colors)\n",
    "\n",
    "# Adjust layout\n",
    "plt.title('Quality Issues by Product Category', fontsize=16)\n",
    "plt.ylabel('Count of Quality Issues', fontsize=14)\n",
    "plt.xlabel('Product Category', fontsize=14)\n",
    "plt.legend(title='Quality Issues', bbox_to_anchor=(1.05, 1), loc='upper left')\n",
    "\n",
    "plt.show()"
   ]
  },
  {
   "cell_type": "code",
   "execution_count": null,
   "metadata": {},
   "outputs": [],
   "source": [
    "all_data.groupby('productcategory')['qualityissue'].value_counts()\n"
   ]
  },
  {
   "cell_type": "code",
   "execution_count": null,
   "metadata": {},
   "outputs": [],
   "source": [
    "# To statistically ascertain the relationship between quality issues and return rates\n",
    "from scipy.stats import chi2_contingency\n",
    "import matplotlib.colors as mcolors\n",
    "\n",
    "# Preparing a contingency table for the chi-square test\n",
    "contingency_table = pd.crosstab(all_data['productcategory'], all_data['qualityissue'])\n",
    "\n",
    "# Performing the chi-square test\n",
    "chi2, p, dof, expected = chi2_contingency(contingency_table)\n",
    "\n",
    "# Results of the chi-square test\n",
    "chi2_test_result = {\n",
    "    \"Chi-Square Statistic\": chi2,\n",
    "    \"p-value\": p,\n",
    "    \"Degrees of Freedom\": dof,\n",
    "    \"Expected Frequencies\": expected\n",
    "}"
   ]
  },
  {
   "cell_type": "code",
   "execution_count": null,
   "metadata": {},
   "outputs": [],
   "source": [
    "quality_issue_returns"
   ]
  },
  {
   "cell_type": "code",
   "execution_count": null,
   "metadata": {},
   "outputs": [],
   "source": [
    "chi2_test_result"
   ]
  },
  {
   "cell_type": "markdown",
   "metadata": {},
   "source": [
    "## Visualisation"
   ]
  },
  {
   "cell_type": "code",
   "execution_count": null,
   "metadata": {},
   "outputs": [],
   "source": [
    "\n",
    "# Preparing a contingency table for the chi-square test\n",
    "contingency_table = pd.crosstab(all_data['productcategory'], all_data['qualityissue'])\n",
    "\n",
    "# Performing the chi-square test\n",
    "chi2, p, dof, expected = chi2_contingency(contingency_table)\n",
    "\n",
    "# Results of the chi-square test\n",
    "chi2_test_result = {\n",
    "    \"Chi-Square Statistic\": chi2,\n",
    "    \"p-value\": p,\n",
    "    \"Degrees of Freedom\": dof,\n",
    "    \"Expected Frequencies\": expected\n",
    "}  \n",
    "\n",
    "# Convert the expected frequencies to a DataFrame for easy plotting\n",
    "expected_df = pd.DataFrame(expected,\n",
    "                           index=contingency_table.index,\n",
    "                           columns=contingency_table.columns)\n",
    "\n",
    "# Plotting\n",
    "fig, ax = plt.subplots(1, 2, figsize=(15, 10))\n",
    "\n",
    "custom_cmap = mcolors.LinearSegmentedColormap.from_list(\"custom_cmap\", ['#0072B2', '#E69F00', '#009E73', '#CC79A7'])\n",
    "\n",
    "# Heatmap for Observed Frequencies\n",
    "sns.heatmap(contingency_table, annot=True, annot_kws={\"color\": \"black\"}, cmap=custom_cmap, ax=ax[0], fmt='g')\n",
    "ax[0].set_title('Observed Frequencies')\n",
    "ax[0].set_xlabel('Quality Issues')\n",
    "ax[0].set_ylabel('Product Category')\n",
    "\n",
    "# Heatmap for Expected Frequencies\n",
    "sns.heatmap(expected_df, annot=True, annot_kws={\"color\": \"black\"},cmap=custom_cmap, ax=ax[1], fmt='g')  \n",
    "ax[1].set_title('Expected Frequencies')\n",
    "ax[1].set_xlabel('Quality Issues')\n",
    "ax[1].set_ylabel('Product Category')\n",
    "\n",
    "plt.tight_layout()\n",
    "plt.show()\n"
   ]
  }
 ],
 "metadata": {
  "kernelspec": {
   "display_name": "Python 3",
   "language": "python",
   "name": "python3"
  },
  "language_info": {
   "codemirror_mode": {
    "name": "ipython",
    "version": 3
   },
   "file_extension": ".py",
   "mimetype": "text/x-python",
   "name": "python",
   "nbconvert_exporter": "python",
   "pygments_lexer": "ipython3",
   "version": "3.11.4"
  }
 },
 "nbformat": 4,
 "nbformat_minor": 2
}
