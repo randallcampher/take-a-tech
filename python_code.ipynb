{
 "cells": [
  {
   "cell_type": "markdown",
   "metadata": {},
   "source": [
    "### Import Libraries"
   ]
  },
  {
   "cell_type": "code",
   "execution_count": null,
   "metadata": {},
   "outputs": [],
   "source": [
    "import mysql.connector  \n",
    "import pandas as pd  \n",
    "import matplotlib.pyplot as plt  \n",
    "import seaborn as sns  \n",
    "import warnings\n",
    "\n",
    "warnings.filterwarnings('ignore')\n"
   ]
  },
  {
   "cell_type": "markdown",
   "metadata": {},
   "source": [
    "### Connecting to Database"
   ]
  },
  {
   "cell_type": "code",
   "execution_count": null,
   "metadata": {},
   "outputs": [],
   "source": [
    "# Establishing a connection to the MySQL database\n",
    "connection = mysql.connector.connect(host = 'localhost',\n",
    "                                     user = 'root',\n",
    "                                     password = 'Ran4taryn$',\n",
    "                                     database = 'takeatech')\n",
    "\n",
    "# Running an SQL query to retrieve all the table names from the connected database\n",
    "tech_tables = pd.read_sql_query('SHOW TABLES', connection)\n",
    "\n",
    "# Displaying the list of tables in the 'techtrendpro' database\n",
    "tech_tables"
   ]
  },
  {
   "cell_type": "markdown",
   "metadata": {},
   "source": [
    "### Extracting Data from SQL"
   ]
  },
  {
   "cell_type": "code",
   "execution_count": null,
   "metadata": {},
   "outputs": [],
   "source": [
    "# Running an SQL query to retrieve all the data from the 'feedback_data' table\n",
    "feedback = pd.read_sql_query('SELECT * FROM feedback_data', connection)\n",
    "\n",
    "# Displaying the first 5 rows of the data fetched from the 'feedback_data' table\n",
    "feedback.head()\n"
   ]
  },
  {
   "cell_type": "code",
   "execution_count": null,
   "metadata": {},
   "outputs": [],
   "source": [
    "# Running an SQL query to retrieve all the data from the 'product_data' table\n",
    "product = pd.read_sql_query('SELECT * FROM product_data', connection)\n",
    "\n",
    "# Displaying the first 5 rows of the data fetched from the 'product_data' table\n",
    "product.head()\n"
   ]
  },
  {
   "cell_type": "code",
   "execution_count": null,
   "metadata": {},
   "outputs": [],
   "source": [
    "# Running an SQL query to retrieve all the data from the 'sales_data' table\n",
    "sales = pd.read_sql_query('SELECT * FROM sales_data', connection)\n",
    "\n",
    "# Displaying the first 5 rows of the data fetched from the 'sales_data' table\n",
    "sales.head()\n"
   ]
  },
  {
   "cell_type": "markdown",
   "metadata": {},
   "source": [
    "### Inspecting Headers"
   ]
  },
  {
   "cell_type": "code",
   "execution_count": null,
   "metadata": {},
   "outputs": [],
   "source": [
    "# Running an SQL query to retrieve the names and details of the columns in the 'feedback_data' table\n",
    "feedback_headers = pd.read_sql_query('SHOW COLUMNS FROM feedback_data', connection)\n",
    "\n",
    "# Displaying the column names and their details from the 'feedback_data' table\n",
    "feedback_headers\n"
   ]
  },
  {
   "cell_type": "code",
   "execution_count": null,
   "metadata": {},
   "outputs": [],
   "source": [
    "# Running an SQL query to retrieve the names and details of the columns in the 'product_data' table\n",
    "product_headers = pd.read_sql_query('SHOW COLUMNS FROM product_data', connection)\n",
    "\n",
    "# Displaying the column names and their details from the 'product_data' table\n",
    "product_headers\n"
   ]
  },
  {
   "cell_type": "code",
   "execution_count": null,
   "metadata": {},
   "outputs": [],
   "source": [
    "# Running an SQL query to retrieve the names and details of the columns in the 'sales_data' table\n",
    "sales_headers = pd.read_sql_query('SHOW COLUMNS FROM sales_data', connection)\n",
    "\n",
    "# Displaying the column names and their details from the 'sales_data' table\n",
    "sales_headers\n"
   ]
  },
  {
   "cell_type": "markdown",
   "metadata": {},
   "source": [
    "### Descriptive Analysis"
   ]
  },
  {
   "cell_type": "code",
   "execution_count": null,
   "metadata": {},
   "outputs": [],
   "source": [
    "# Generating descriptive statistics for all columns in the 'feedback' dataset\n",
    "feedback_stats = feedback.describe(include='all')\n",
    "\n",
    "# Displaying the generated statistics\n",
    "feedback_stats\n"
   ]
  },
  {
   "cell_type": "code",
   "execution_count": null,
   "metadata": {},
   "outputs": [],
   "source": [
    "# Generating descriptive statistics for all columns in the 'product' dataset\n",
    "product_stats = product.describe(include='all')\n",
    "\n",
    "# Displaying the generated statistics\n",
    "product_stats\n"
   ]
  },
  {
   "cell_type": "code",
   "execution_count": null,
   "metadata": {},
   "outputs": [],
   "source": [
    "# Generating descriptive statistics for all columns in the 'sales' dataset\n",
    "sales_stats = sales.describe(include='all')\n",
    "\n",
    "# Displaying the generated statistics\n",
    "sales_stats\n"
   ]
  },
  {
   "cell_type": "markdown",
   "metadata": {},
   "source": [
    "### Joining Data"
   ]
  },
  {
   "cell_type": "code",
   "execution_count": null,
   "metadata": {},
   "outputs": [],
   "source": [
    "# Aggregate the sales data to prevent multiple rows for the same product\n",
    "sales_aggregated = sales.groupby('productid').agg({\n",
    "    'saleid': 'first',  \n",
    "    'salesdate': 'first',\n",
    "    'salesvolume': 'sum',  \n",
    "    'revenuegenerated': 'sum'  \n",
    "}).reset_index()\n",
    "\n",
    "# Merge sales_aggregated with product\n",
    "salesproduct_merged = pd.merge(sales_aggregated, product, on='productid', how='inner')\n",
    "\n",
    "# Merge feedback with the merged salesproduct_merged\n",
    "all_data = pd.merge(feedback, salesproduct_merged, on='productid', how='inner')\n",
    "\n",
    "# Optionally drop duplicates if needed\n",
    "#all_data.drop_duplicates(inplace=True)\n"
   ]
  },
  {
   "cell_type": "code",
   "execution_count": null,
   "metadata": {},
   "outputs": [],
   "source": [
    "df = all_data.to_csv('joined_data.csv', index=False)"
   ]
  },
  {
   "cell_type": "code",
   "execution_count": null,
   "metadata": {},
   "outputs": [],
   "source": [
    "all_data.head(10)"
   ]
  },
  {
   "cell_type": "code",
   "execution_count": null,
   "metadata": {},
   "outputs": [],
   "source": [
    "all_data.info()"
   ]
  },
  {
   "cell_type": "code",
   "execution_count": null,
   "metadata": {},
   "outputs": [],
   "source": [
    "productreturn_rate = (all_data['feedbackid'].count()*100)/(all_data['salesvolume'].sum())\n",
    "print('Sales Volume:',all_data['salesvolume'].sum(),'\\n','Return Volume:',all_data['feedbackid'].count(),'\\n','Return Rate: ',round( productreturn_rate,2))"
   ]
  },
  {
   "cell_type": "markdown",
   "metadata": {},
   "source": [
    "### Exploratory Data Analysis (EDA) - Univariate"
   ]
  },
  {
   "cell_type": "code",
   "execution_count": null,
   "metadata": {},
   "outputs": [],
   "source": [
    "plt.style.use('classic')\n",
    "\n",
    "# Setting up a figure with 2 rows and 2 columns for subplots\n",
    "fig, axes = plt.subplots(nrows=2, ncols=2, figsize=(20, 15), gridspec_kw={'hspace': 0.4})\n",
    "\n",
    "# Custom colors\n",
    "custom_colors = ['#0072B2', '#E69F00', '#009E73', '#CC79A7']\n",
    "\n",
    "# Sales Volume\n",
    "sns.histplot(all_data['salesvolume'],kde='True', ax=axes[0,0], color=custom_colors[3])\n",
    "axes[0,0].set_title('Distribution of Sales Volme', fontsize=14)\n",
    "axes[0,0].set_xlabel('Sales Volume',fontsize=12)\n",
    "axes[0,0].set_ylabel('Frequency',fontsize=12)\n",
    "\n",
    "# Revenue Generated\n",
    "sns.histplot(all_data['revenuegenerated'],kde='True', ax=axes[0,1], color=custom_colors[3])\n",
    "axes[0,1].set_title('Distribution of Revenue Generated', fontsize=14)\n",
    "axes[0,1].set_xlabel('Revenue Generated',fontsize=12)\n",
    "axes[0,1].set_ylabel('Frequency',fontsize=12)\n",
    "\n",
    "# Sales Volume by Product Category\n",
    "category_sales = all_data.groupby('productcategory')['salesvolume'].sum()\n",
    "category_sales.plot(kind='bar',ax=axes[1,0], color=custom_colors[3], width=0.4)#(category_sales['productcategory'], category_sales['salesvolume'],ax=axes[1,0])\n",
    "axes[1,0].set_title('Sales Volume by Product Category')\n",
    "axes[1,0].set_xlabel('Product Category')\n",
    "axes[1,0].set_ylabel('Sales')\n",
    "axes[1,0].tick_params(axis='x',rotation=360)\n",
    "\n",
    "# Return Reason\n",
    "return_reason_counts = all_data['returnreason'].value_counts()\n",
    "return_reason_counts.plot(kind='bar', ax=axes[1,1], color=custom_colors[3], width=0.7)\n",
    "axes[1,1].set_title('Return Reasons', fontsize=14)\n",
    "axes[1,1].set_xlabel('Return Reason',fontsize=12)\n",
    "axes[1,1].set_ylabel('Count',fontsize=12)\n",
    "axes[1,1].tick_params(axis='x',rotation=45)\n",
    "\n",
    "# Adjust layout\n",
    "fig.suptitle('Univariate Analysis', fontsize=16)\n",
    "plt.tight_layout(rect=[0, 0, 1, 0.95])\n",
    "plt.show()\n"
   ]
  },
  {
   "cell_type": "markdown",
   "metadata": {},
   "source": [
    "### Exploratory Data Analysis (EDA) - Bivariate"
   ]
  },
  {
   "cell_type": "code",
   "execution_count": null,
   "metadata": {},
   "outputs": [],
   "source": [
    "# Create a crosstab to count occurrences of each combination\n",
    "stacked_data = pd.crosstab(all_data['returnreason'], all_data['productcategory'])\n",
    "\n",
    "# Sort columns by the sum of each column in descending order\n",
    "stacked_data = stacked_data[stacked_data.sum(axis=0).sort_values(ascending=False).index]\n",
    "\n",
    "# Define your custom colors\n",
    "custom_colors = ['#0072B2', '#009E73', '#CC79A7']\n",
    "\n",
    "# Plotting the stacked bar chart\n",
    "stacked_data.plot(kind='barh', stacked=True, figsize=(15, 10), color=custom_colors)#, fontsize=12)\n",
    "\n",
    "# Set title and labels\n",
    "plt.title('Return Reason By Product Category')#, fontsize=16)\n",
    "plt.xlabel('Count of Returns')#, fontsize=14)\n",
    "plt.ylabel('Return Reason')#, fontsize=14)\n",
    "\n",
    "# Show the legend outside the plot\n",
    "plt.legend(title='Product Category', bbox_to_anchor=(1.05, 1), loc='upper left')\n",
    "\n",
    "# Adjust layout\n",
    "plt.suptitle('Bivariate Analysis', fontsize=16)\n",
    "plt.tight_layout(rect=[0, 0, 1, 0.95])\n",
    "plt.show()"
   ]
  },
  {
   "cell_type": "markdown",
   "metadata": {},
   "source": [
    "### Analysis"
   ]
  },
  {
   "cell_type": "code",
   "execution_count": null,
   "metadata": {},
   "outputs": [],
   "source": [
    "# Extracting insights from 'Customer Feedback' related to product quality\n",
    "# We assume feedback mentioning terms like 'defective', 'poor quality', 'not as described' indicate quality issues\n",
    "quality_related_terms = ['defective',\n",
    "                        'poor quality',\n",
    "                        'disappointing',\n",
    "                        'poor',\n",
    "                        'malfunctioning',\n",
    "                        'faulty',\n",
    "                        'subpar',\n",
    "                        'unsatisfactory',\n",
    "                        'unreliable',\n",
    "                        'underwhelming',\n",
    "                        'limited functionality',\n",
    "                        'performance issues',\n",
    "                        'software bugs',\n",
    "                        'hardware failure',\n",
    "                        'glitchy',\n",
    "                        'inconsistent',\n",
    "                        'slow',\n",
    "                        'overheating',\n",
    "                        'not worth the price',\n",
    "                        'broke after a few uses',\n",
    "                        'short lifespan',\n",
    "                        'low battery life',\n",
    "                        'not responsive',\n",
    "                        'poor sound quality',\n",
    "                        'screen issues',\n",
    "                        'connectivity problems'\n",
    "]\n",
    "\n",
    "\n",
    "# Adding a new column 'Quality Issue' to indicate if the feedback suggests a quality issue\n",
    "all_data['qualityissue'] = all_data['customerfeedback'].apply(\n",
    "    lambda x: any(term in x.lower() for term in quality_related_terms)\n",
    ")\n",
    "\n",
    "# Analyzing the frequency of returns due to quality issues\n",
    "quality_issue_returns = all_data['qualityissue'].value_counts()\n",
    "\n",
    "# Visualizing the relationship between product category and quality issues\n",
    "plt.figure(figsize=(15, 10))\n",
    "custom_colors = ['#009E73', '#CC79A7']\n",
    "sns.countplot(x='productcategory', hue='qualityissue', data=all_data, width=0.7, palette=custom_colors)\n",
    "\n",
    "# Adjust layout\n",
    "plt.title('Quality Issues by Product Category', fontsize=16)\n",
    "plt.ylabel('Count of Quality Issues', fontsize=14)\n",
    "plt.xlabel('Product Category', fontsize=14)\n",
    "plt.legend(title='Quality Issues', bbox_to_anchor=(1.05, 1), loc='upper left')\n",
    "\n",
    "\n",
    "\n",
    "plt.show()"
   ]
  },
  {
   "cell_type": "code",
   "execution_count": null,
   "metadata": {},
   "outputs": [],
   "source": [
    "all_data.groupby('productcategory')['qualityissue'].value_counts()\n"
   ]
  },
  {
   "cell_type": "code",
   "execution_count": null,
   "metadata": {},
   "outputs": [],
   "source": [
    "# To statistically ascertain the relationship between quality issues and return rates,\n",
    "from scipy.stats import chi2_contingency\n",
    "import matplotlib.colors as mcolors\n",
    "\n",
    "# Preparing a contingency table for the chi-square test\n",
    "contingency_table = pd.crosstab(all_data['productcategory'], all_data['qualityissue'])\n",
    "\n",
    "# Performing the chi-square test\n",
    "chi2, p, dof, expected = chi2_contingency(contingency_table)\n",
    "\n",
    "# Results of the chi-square test\n",
    "chi2_test_result = {\n",
    "    \"Chi-Square Statistic\": chi2,\n",
    "    \"p-value\": p,\n",
    "    \"Degrees of Freedom\": dof,\n",
    "    \"Expected Frequencies\": expected\n",
    "}"
   ]
  },
  {
   "cell_type": "code",
   "execution_count": null,
   "metadata": {},
   "outputs": [],
   "source": [
    "quality_issue_returns"
   ]
  },
  {
   "cell_type": "code",
   "execution_count": null,
   "metadata": {},
   "outputs": [],
   "source": [
    "chi2_test_result"
   ]
  },
  {
   "cell_type": "markdown",
   "metadata": {},
   "source": [
    "## Visualisation"
   ]
  },
  {
   "cell_type": "code",
   "execution_count": null,
   "metadata": {},
   "outputs": [],
   "source": [
    "\n",
    "# Preparing a contingency table for the chi-square test\n",
    "contingency_table = pd.crosstab(all_data['productcategory'], all_data['qualityissue'])\n",
    "\n",
    "# Performing the chi-square test\n",
    "chi2, p, dof, expected = chi2_contingency(contingency_table)\n",
    "\n",
    "# Results of the chi-square test\n",
    "chi2_test_result = {\n",
    "    \"Chi-Square Statistic\": chi2,\n",
    "    \"p-value\": p,\n",
    "    \"Degrees of Freedom\": dof,\n",
    "    \"Expected Frequencies\": expected\n",
    "}  # Fixed missing closing brace\n",
    "\n",
    "# Convert the expected frequencies to a DataFrame for easy plotting\n",
    "expected_df = pd.DataFrame(expected,\n",
    "                           index=contingency_table.index,\n",
    "                           columns=contingency_table.columns)\n",
    "\n",
    "# Plotting\n",
    "fig, ax = plt.subplots(1, 2, figsize=(15, 10))\n",
    "\n",
    "custom_cmap = mcolors.LinearSegmentedColormap.from_list(\"custom_cmap\", ['#0072B2', '#E69F00', '#009E73', '#CC79A7'])\n",
    "\n",
    "# Heatmap for Observed Frequencies\n",
    "sns.heatmap(contingency_table, annot=True, annot_kws={\"color\": \"black\"}, cmap=custom_cmap, ax=ax[0], fmt='g')  # Using the custom colormap\n",
    "ax[0].set_title('Observed Frequencies')\n",
    "ax[0].set_xlabel('Quality Issues')\n",
    "ax[0].set_ylabel('Product Category')\n",
    "\n",
    "# Heatmap for Expected Frequencies\n",
    "sns.heatmap(expected_df, annot=True, annot_kws={\"color\": \"black\"},cmap=custom_cmap, ax=ax[1], fmt='g')  # Corrected to use expected_df\n",
    "ax[1].set_title('Expected Frequencies')\n",
    "ax[1].set_xlabel('Quality Issues')\n",
    "ax[1].set_ylabel('Product Category')\n",
    "\n",
    "plt.tight_layout()\n",
    "plt.show()\n"
   ]
  },
  {
   "cell_type": "markdown",
   "metadata": {},
   "source": [
    "##### Quality Issue Analysis\n",
    "###### Frequency of Returns Due to Quality Issues:\n",
    "- There are 2,717 instances where the customer feedback suggests a quality issue.\n",
    "- 12,404 instances do not indicate a quality issue in customer feedback.\n",
    "###### Visualization: Quality Issues by Product Category\n",
    "\n",
    "- The chart shows the count of quality-related issues across different product categories."
   ]
  },
  {
   "cell_type": "markdown",
   "metadata": {},
   "source": [
    "##### Statistical Analysis: Chi-Square Test of Independence\n",
    "- Chi-Square Statistic: 6.559\n",
    "- p-value: 0.038\n",
    "- Degrees of Freedom: 2\n",
    "\n",
    "##### Expected Frequencies:\n",
    "- Accessories: Expected frequency of returns with and without quality issues - 4543.73 and 995.27, respectively.\n",
    "- Smartphones: Expected frequency - 3620.06 and 792.94.\n",
    "- Laptops: Expected frequency - 4240.21 and 928.79.\n",
    "\n",
    "###### Interpretation\n",
    "- Statistical Significance: The p-value of 0.038 suggests that there is a statistically significant relationship between product category and the presence of quality issues in the customer feedback.\n",
    "\n",
    "##### Implications:\n",
    "- This implies that the quality issues leading to returns are not uniformly distributed across product categories.\n",
    "- Given this information, TechTrend Pro can focus on the categories with higher rates of quality-related issues, potentially addressing specific aspects of product quality in those categories to reduce return rates."
   ]
  },
  {
   "cell_type": "markdown",
   "metadata": {},
   "source": [
    "### Insights\n",
    "\n",
    "##### Quality-Related Returns Vary Across Categories:\n",
    "- A significant proportion of returns are linked to quality issues, especially in certain product categories.\n",
    "- The chi-square test indicated a statistically significant relationship between product categories and quality issues.\n",
    "\n",
    "##### Specific Categories with Higher Quality Issues:\n",
    "- Among the product categories, some show a higher prevalence of quality-related feedback. These categories warrant closer inspection and targeted improvements.\n",
    "\n",
    "#### Customer Feedback as a Quality Indicator:\n",
    "- Customer feedback frequently mentions quality issues like 'defective products' or 'poor quality', highlighting the importance of addressing these concerns.\n",
    "\n",
    "### Recommendations\n",
    "##### Enhanced Quality Control for Targeted Categories:\n",
    "- TechTrend Pro should implement stricter quality control measures, especially for the product categories with a higher incidence of quality-related returns. This could involve more rigorous testing and inspection processes.\n",
    "\n",
    "##### Review and Strengthen Supplier Relationships:\n",
    "- Analyze and review supplier performance. For suppliers consistently linked to quality issues, consider renegotiation of terms, additional quality checks, or seeking alternative suppliers.\n",
    "\n",
    "##### Leverage Customer Feedback for Product Improvements:\n",
    "- Utilize the insights from customer feedback to inform product development. Identify common complaints and address these in future product designs or updates.\n",
    "\n",
    "##### Enhance Customer Education and Support:\n",
    "- Some returns may be due to misunderstandings about product use. Providing better educational materials and proactive customer support could reduce such returns.\n",
    "\n",
    "##### Regular Data Analysis for Continuous Improvement:\n",
    "- Continue to analyze sales, feedback, and return data regularly to identify emerging trends or new issues, allowing for timely corrective actions.\n",
    "\n",
    "##### Invest in Predictive Analytics:\n",
    "- Implement predictive analytics to identify potential quality issues before products are shipped. This could help in proactively addressing problems and reducing future returns.\n",
    "\n",
    "### Conclusion\n",
    "By focusing on these areas, TechTrend Pro can potentially reduce return rates, leading to increased customer satisfaction and reduced operational costs associated with handling returns. The key is a combination of proactive quality management, continuous data monitoring, and leveraging customer feedback for ongoing improvements."
   ]
  }
 ],
 "metadata": {
  "kernelspec": {
   "display_name": "Python 3",
   "language": "python",
   "name": "python3"
  },
  "language_info": {
   "codemirror_mode": {
    "name": "ipython",
    "version": 3
   },
   "file_extension": ".py",
   "mimetype": "text/x-python",
   "name": "python",
   "nbconvert_exporter": "python",
   "pygments_lexer": "ipython3",
   "version": "3.11.4"
  }
 },
 "nbformat": 4,
 "nbformat_minor": 2
}
