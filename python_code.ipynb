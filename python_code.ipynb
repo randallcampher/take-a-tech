{
 "cells": [
  {
   "cell_type": "markdown",
   "metadata": {},
   "source": [
    "### Import Libraries"
   ]
  },
  {
   "cell_type": "code",
   "execution_count": null,
   "metadata": {},
   "outputs": [],
   "source": [
    "import mysql.connector  \n",
    "import pandas as pd  \n",
    "import matplotlib.pyplot as plt  \n",
    "import seaborn as sns  \n",
    "import warnings\n",
    "\n",
    "warnings.filterwarnings('ignore')\n"
   ]
  },
  {
   "cell_type": "markdown",
   "metadata": {},
   "source": [
    "### Connecting to Database"
   ]
  },
  {
   "cell_type": "code",
   "execution_count": null,
   "metadata": {},
   "outputs": [],
   "source": [
    "# Establishing a connection to the MySQL database\n",
    "connection = mysql.connector.connect(host = '@@@',\n",
    "                                     user = '@@@',\n",
    "                                     password = '@@@',\n",
    "                                     database = '@@@')\n",
    "\n",
    "# Running an SQL query to retrieve all the table names from the connected database\n",
    "tech_tables = pd.read_sql_query('SHOW TABLES', connection)\n",
    "\n",
    "# Displaying the list of tables in the 'techtrendpro' database\n",
    "tech_tables"
   ]
  },
  {
   "cell_type": "markdown",
   "metadata": {},
   "source": [
    "### Extracting Data from SQL"
   ]
  },
  {
   "cell_type": "code",
   "execution_count": null,
   "metadata": {},
   "outputs": [],
   "source": [
    "# Running an SQL query to retrieve all the data from the 'feedback_data' table\n",
    "feedback = pd.read_sql_query('SELECT * FROM feedback_data', connection)\n",
    "\n",
    "# Displaying the first 5 rows of the data fetched from the 'feedback_data' table\n",
    "feedback.head()\n"
   ]
  },
  {
   "cell_type": "code",
   "execution_count": null,
   "metadata": {},
   "outputs": [],
   "source": [
    "# Running an SQL query to retrieve all the data from the 'product_data' table\n",
    "product = pd.read_sql_query('SELECT * FROM product_data', connection)\n",
    "\n",
    "# Displaying the first 5 rows of the data fetched from the 'product_data' table\n",
    "product.head()\n"
   ]
  },
  {
   "cell_type": "code",
   "execution_count": null,
   "metadata": {},
   "outputs": [],
   "source": [
    "# Running an SQL query to retrieve all the data from the 'sales_data' table\n",
    "sales = pd.read_sql_query('SELECT * FROM sales_data', connection)\n",
    "\n",
    "# Displaying the first 5 rows of the data fetched from the 'sales_data' table\n",
    "sales.head()\n"
   ]
  },
  {
   "cell_type": "markdown",
   "metadata": {},
   "source": [
    "### Inspecting Headers"
   ]
  },
  {
   "cell_type": "code",
   "execution_count": null,
   "metadata": {},
   "outputs": [],
   "source": [
    "# Running an SQL query to retrieve the names and details of the columns in the 'feedback_data' table\n",
    "feedback_headers = pd.read_sql_query('SHOW COLUMNS FROM feedback_data', connection)\n",
    "\n",
    "# Displaying the column names and their details from the 'feedback_data' table\n",
    "feedback_headers\n"
   ]
  },
  {
   "cell_type": "code",
   "execution_count": null,
   "metadata": {},
   "outputs": [],
   "source": [
    "# Running an SQL query to retrieve the names and details of the columns in the 'product_data' table\n",
    "product_headers = pd.read_sql_query('SHOW COLUMNS FROM product_data', connection)\n",
    "\n",
    "# Displaying the column names and their details from the 'product_data' table\n",
    "product_headers\n"
   ]
  },
  {
   "cell_type": "code",
   "execution_count": null,
   "metadata": {},
   "outputs": [],
   "source": [
    "# Running an SQL query to retrieve the names and details of the columns in the 'sales_data' table\n",
    "sales_headers = pd.read_sql_query('SHOW COLUMNS FROM sales_data', connection)\n",
    "\n",
    "# Displaying the column names and their details from the 'sales_data' table\n",
    "sales_headers\n"
   ]
  },
  {
   "cell_type": "markdown",
   "metadata": {},
   "source": [
    "### Descriptive Analysis"
   ]
  },
  {
   "cell_type": "code",
   "execution_count": null,
   "metadata": {},
   "outputs": [],
   "source": [
    "# Generating descriptive statistics for all columns in the 'feedback' dataset\n",
    "feedback_stats = feedback.describe(include='all')\n",
    "\n",
    "# Displaying the generated statistics\n",
    "feedback_stats\n"
   ]
  },
  {
   "cell_type": "code",
   "execution_count": null,
   "metadata": {},
   "outputs": [],
   "source": [
    "# Generating descriptive statistics for all columns in the 'product' dataset\n",
    "product_stats = product.describe(include='all')\n",
    "\n",
    "# Displaying the generated statistics\n",
    "product_stats\n"
   ]
  },
  {
   "cell_type": "code",
   "execution_count": null,
   "metadata": {},
   "outputs": [],
   "source": [
    "# Generating descriptive statistics for all columns in the 'sales' dataset\n",
    "sales_stats = sales.describe(include='all')\n",
    "\n",
    "# Displaying the generated statistics\n",
    "sales_stats\n"
   ]
  },
  {
   "cell_type": "markdown",
   "metadata": {},
   "source": [
    "### Joining Data"
   ]
  },
  {
   "cell_type": "code",
   "execution_count": null,
   "metadata": {},
   "outputs": [],
   "source": [
    "# Aggregate the sales data to prevent multiple rows for the same product\n",
    "sales_aggregated = sales.groupby('productid').agg({\n",
    "    'saleid': 'first',  \n",
    "    'salesdate': 'first',\n",
    "    'salesvolume': 'sum',  \n",
    "    'revenuegenerated': 'sum'  \n",
    "}).reset_index()\n",
    "\n",
    "# Merge sales_aggregated with product\n",
    "salesproduct_merged = pd.merge(sales_aggregated, product, on='productid', how='inner')\n",
    "\n",
    "# Merge feedback with the merged salesproduct_merged\n",
    "all_data = pd.merge(feedback, salesproduct_merged, on='productid', how='inner')\n",
    "\n",
    "# Optionally drop duplicates if needed\n",
    "#all_data.drop_duplicates(inplace=True)\n"
   ]
  },
  {
   "cell_type": "code",
   "execution_count": null,
   "metadata": {},
   "outputs": [],
   "source": [
    "df = all_data.to_csv('joined_data.csv', index=False)"
   ]
  },
  {
   "cell_type": "code",
   "execution_count": null,
   "metadata": {},
   "outputs": [],
   "source": [
    "all_data.head(10)"
   ]
  },
  {
   "cell_type": "code",
   "execution_count": null,
   "metadata": {},
   "outputs": [],
   "source": [
    "all_data.info()"
   ]
  },
  {
   "cell_type": "code",
   "execution_count": null,
   "metadata": {},
   "outputs": [],
   "source": [
    "productreturn_rate = (all_data['feedbackid'].count()*100)/(all_data['salesvolume'].sum())\n",
    "print('Sales Volume:',all_data['salesvolume'].sum(),'\\n','Return Volume:',all_data['feedbackid'].count(),'\\n','Return Rate: ',round( productreturn_rate,2))"
   ]
  },
  {
   "cell_type": "markdown",
   "metadata": {},
   "source": [
    "### Exploratory Data Analysis (EDA) - Univariate"
   ]
  },
  {
   "cell_type": "code",
   "execution_count": null,
   "metadata": {},
   "outputs": [],
   "source": [
    "plt.style.use('classic')\n",
    "\n",
    "# Setting up a figure with 2 rows and 2 columns for subplots\n",
    "fig, axes = plt.subplots(nrows=2, ncols=2, figsize=(20, 15), gridspec_kw={'hspace': 0.4})\n",
    "\n",
    "# Custom colors\n",
    "custom_colors = ['#0072B2', '#E69F00', '#009E73', '#CC79A7']\n",
    "\n",
    "# Sales Volume\n",
    "sns.histplot(all_data['salesvolume'],kde='True', ax=axes[0,0], color=custom_colors[3])\n",
    "axes[0,0].set_title('Distribution of Sales Volme', fontsize=14)\n",
    "axes[0,0].set_xlabel('Sales Volume',fontsize=12)\n",
    "axes[0,0].set_ylabel('Frequency',fontsize=12)\n",
    "\n",
    "# Revenue Generated\n",
    "sns.histplot(all_data['revenuegenerated'],kde='True', ax=axes[0,1], color=custom_colors[3])\n",
    "axes[0,1].set_title('Distribution of Revenue Generated', fontsize=14)\n",
    "axes[0,1].set_xlabel('Revenue Generated',fontsize=12)\n",
    "axes[0,1].set_ylabel('Frequency',fontsize=12)\n",
    "\n",
    "# Sales Volume by Product Category\n",
    "category_sales = all_data.groupby('productcategory')['salesvolume'].sum()\n",
    "category_sales.plot(kind='bar',ax=axes[1,0], color=custom_colors[3], width=0.4)#(category_sales['productcategory'], category_sales['salesvolume'],ax=axes[1,0])\n",
    "axes[1,0].set_title('Sales Volume by Product Category')\n",
    "axes[1,0].set_xlabel('Product Category')\n",
    "axes[1,0].set_ylabel('Sales')\n",
    "axes[1,0].tick_params(axis='x',rotation=360)\n",
    "\n",
    "# Return Reason\n",
    "return_reason_counts = all_data['returnreason'].value_counts()\n",
    "return_reason_counts.plot(kind='bar', ax=axes[1,1], color=custom_colors[3], width=0.7)\n",
    "axes[1,1].set_title('Return Reasons', fontsize=14)\n",
    "axes[1,1].set_xlabel('Return Reason',fontsize=12)\n",
    "axes[1,1].set_ylabel('Count',fontsize=12)\n",
    "axes[1,1].tick_params(axis='x',rotation=45)\n",
    "\n",
    "# Adjust layout\n",
    "fig.suptitle('Univariate Analysis', fontsize=16)\n",
    "plt.tight_layout(rect=[0, 0, 1, 0.95])\n",
    "plt.show()\n"
   ]
  },
  {
   "cell_type": "markdown",
   "metadata": {},
   "source": [
    "### Exploratory Data Analysis (EDA) - Bivariate"
   ]
  },
  {
   "cell_type": "code",
   "execution_count": null,
   "metadata": {},
   "outputs": [],
   "source": [
    "# Create a crosstab to count occurrences of each combination\n",
    "stacked_data = pd.crosstab(all_data['returnreason'], all_data['productcategory'])\n",
    "\n",
    "# Sort columns by the sum of each column in descending order\n",
    "stacked_data = stacked_data[stacked_data.sum(axis=0).sort_values(ascending=False).index]\n",
    "\n",
    "# Define your custom colors\n",
    "custom_colors = ['#0072B2', '#009E73', '#CC79A7']\n",
    "\n",
    "# Plotting the stacked bar chart\n",
    "stacked_data.plot(kind='barh', stacked=True, figsize=(15, 10), color=custom_colors)#, fontsize=12)\n",
    "\n",
    "# Set title and labels\n",
    "plt.title('Return Reason By Product Category')#, fontsize=16)\n",
    "plt.xlabel('Count of Returns')#, fontsize=14)\n",
    "plt.ylabel('Return Reason')#, fontsize=14)\n",
    "\n",
    "# Show the legend outside the plot\n",
    "plt.legend(title='Product Category', bbox_to_anchor=(1.05, 1), loc='upper left')\n",
    "\n",
    "# Adjust layout\n",
    "plt.suptitle('Bivariate Analysis', fontsize=16)\n",
    "plt.tight_layout(rect=[0, 0, 1, 0.95])\n",
    "plt.show()"
   ]
  },
  {
   "cell_type": "markdown",
   "metadata": {},
   "source": [
    "### Analysis"
   ]
  },
  {
   "cell_type": "code",
   "execution_count": null,
   "metadata": {},
   "outputs": [],
   "source": [
    "# Extracting insights from 'Customer Feedback' related to product quality\n",
    "# We assume feedback mentioning terms like 'defective', 'poor quality', 'not as described' indicate quality issues\n",
    "quality_related_terms = ['defective',\n",
    "                        'poor quality',\n",
    "                        'disappointing',\n",
    "                        'poor',\n",
    "                        'malfunctioning',\n",
    "                        'faulty',\n",
    "                        'subpar',\n",
    "                        'unsatisfactory',\n",
    "                        'unreliable',\n",
    "                        'underwhelming',\n",
    "                        'limited functionality',\n",
    "                        'performance issues',\n",
    "                        'software bugs',\n",
    "                        'hardware failure',\n",
    "                        'glitchy',\n",
    "                        'inconsistent',\n",
    "                        'slow',\n",
    "                        'overheating',\n",
    "                        'not worth the price',\n",
    "                        'broke after a few uses',\n",
    "                        'short lifespan',\n",
    "                        'low battery life',\n",
    "                        'not responsive',\n",
    "                        'poor sound quality',\n",
    "                        'screen issues',\n",
    "                        'connectivity problems'\n",
    "]\n",
    "\n",
    "\n",
    "# Adding a new column 'Quality Issue' to indicate if the feedback suggests a quality issue\n",
    "all_data['qualityissue'] = all_data['customerfeedback'].apply(\n",
    "    lambda x: any(term in x.lower() for term in quality_related_terms)\n",
    ")\n",
    "\n",
    "# Analyzing the frequency of returns due to quality issues\n",
    "quality_issue_returns = all_data['qualityissue'].value_counts()\n",
    "\n",
    "# Visualizing the relationship between product category and quality issues\n",
    "plt.figure(figsize=(15, 10))\n",
    "custom_colors = ['#009E73', '#CC79A7']\n",
    "sns.countplot(x='productcategory', hue='qualityissue', data=all_data, width=0.7, palette=custom_colors)\n",
    "\n",
    "# Adjust layout\n",
    "plt.title('Quality Issues by Product Category', fontsize=16)\n",
    "plt.ylabel('Count of Quality Issues', fontsize=14)\n",
    "plt.xlabel('Product Category', fontsize=14)\n",
    "plt.legend(title='Quality Issues', bbox_to_anchor=(1.05, 1), loc='upper left')\n",
    "\n",
    "\n",
    "\n",
    "plt.show()"
   ]
  },
  {
   "cell_type": "code",
   "execution_count": null,
   "metadata": {},
   "outputs": [],
   "source": [
    "all_data.groupby('productcategory')['qualityissue'].value_counts()\n"
   ]
  },
  {
   "cell_type": "code",
   "execution_count": null,
   "metadata": {},
   "outputs": [],
   "source": [
    "# To statistically ascertain the relationship between quality issues and return rates,\n",
    "from scipy.stats import chi2_contingency\n",
    "import matplotlib.colors as mcolors\n",
    "\n",
    "# Preparing a contingency table for the chi-square test\n",
    "contingency_table = pd.crosstab(all_data['productcategory'], all_data['qualityissue'])\n",
    "\n",
    "# Performing the chi-square test\n",
    "chi2, p, dof, expected = chi2_contingency(contingency_table)\n",
    "\n",
    "# Results of the chi-square test\n",
    "chi2_test_result = {\n",
    "    \"Chi-Square Statistic\": chi2,\n",
    "    \"p-value\": p,\n",
    "    \"Degrees of Freedom\": dof,\n",
    "    \"Expected Frequencies\": expected\n",
    "}"
   ]
  },
  {
   "cell_type": "code",
   "execution_count": null,
   "metadata": {},
   "outputs": [],
   "source": [
    "quality_issue_returns"
   ]
  },
  {
   "cell_type": "code",
   "execution_count": null,
   "metadata": {},
   "outputs": [],
   "source": [
    "chi2_test_result"
   ]
  },
  {
   "cell_type": "markdown",
   "metadata": {},
   "source": [
    "## Visualisation"
   ]
  },
  {
   "cell_type": "code",
   "execution_count": null,
   "metadata": {},
   "outputs": [],
   "source": [
    "\n",
    "# Preparing a contingency table for the chi-square test\n",
    "contingency_table = pd.crosstab(all_data['productcategory'], all_data['qualityissue'])\n",
    "\n",
    "# Performing the chi-square test\n",
    "chi2, p, dof, expected = chi2_contingency(contingency_table)\n",
    "\n",
    "# Results of the chi-square test\n",
    "chi2_test_result = {\n",
    "    \"Chi-Square Statistic\": chi2,\n",
    "    \"p-value\": p,\n",
    "    \"Degrees of Freedom\": dof,\n",
    "    \"Expected Frequencies\": expected\n",
    "}  # Fixed missing closing brace\n",
    "\n",
    "# Convert the expected frequencies to a DataFrame for easy plotting\n",
    "expected_df = pd.DataFrame(expected,\n",
    "                           index=contingency_table.index,\n",
    "                           columns=contingency_table.columns)\n",
    "\n",
    "# Plotting\n",
    "fig, ax = plt.subplots(1, 2, figsize=(15, 10))\n",
    "\n",
    "custom_cmap = mcolors.LinearSegmentedColormap.from_list(\"custom_cmap\", ['#0072B2', '#E69F00', '#009E73', '#CC79A7'])\n",
    "\n",
    "# Heatmap for Observed Frequencies\n",
    "sns.heatmap(contingency_table, annot=True, annot_kws={\"color\": \"black\"}, cmap=custom_cmap, ax=ax[0], fmt='g')  # Using the custom colormap\n",
    "ax[0].set_title('Observed Frequencies')\n",
    "ax[0].set_xlabel('Quality Issues')\n",
    "ax[0].set_ylabel('Product Category')\n",
    "\n",
    "# Heatmap for Expected Frequencies\n",
    "sns.heatmap(expected_df, annot=True, annot_kws={\"color\": \"black\"},cmap=custom_cmap, ax=ax[1], fmt='g')  # Corrected to use expected_df\n",
    "ax[1].set_title('Expected Frequencies')\n",
    "ax[1].set_xlabel('Quality Issues')\n",
    "ax[1].set_ylabel('Product Category')\n",
    "\n",
    "plt.tight_layout()\n",
    "plt.show()\n"
   ]
  },
  {
   "cell_type": "markdown",
   "metadata": {},
   "source": [
    "##### Quality Issue Analysis\n",
    "###### Frequency of Returns Due to Quality Issues:\n",
    "- There are 2,717 instances where the customer feedback suggests a quality issue.\n",
    "- 12,404 instances do not indicate a quality issue in customer feedback.\n",
   
